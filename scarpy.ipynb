{
 "cells": [
  {
   "cell_type": "markdown",
   "metadata": {},
   "source": [
    "## __Importing libraries__"
   ]
  },
  {
   "cell_type": "code",
   "execution_count": 1,
   "metadata": {},
   "outputs": [],
   "source": [
    "from selenium import webdriver\n",
    "from selenium.webdriver.common.by import By\n",
    "from selenium.webdriver.support.ui import WebDriverWait\n",
    "from selenium.webdriver.support import expected_conditions as EC\n",
    "from selenium.webdriver.chrome.options import Options\n",
    "import time\n",
    "import pandas as pd\n",
    "import re\n",
    "import geopandas as gpd"
   ]
  },
  {
   "cell_type": "markdown",
   "metadata": {},
   "source": [
    "## __Setting options__"
   ]
  },
  {
   "cell_type": "code",
   "execution_count": 2,
   "metadata": {},
   "outputs": [],
   "source": [
    "options = Options()\n",
    "options.add_experimental_option('excludeSwitches', ['enable-logging'])\n",
    "options.page_load_strategy = 'eager' #to avoid the timeexception \n",
    " "
   ]
  },
  {
   "cell_type": "markdown",
   "metadata": {},
   "source": [
    "## __Establishing connection__"
   ]
  },
  {
   "cell_type": "code",
   "execution_count": 3,
   "metadata": {},
   "outputs": [
    {
     "name": "stderr",
     "output_type": "stream",
     "text": [
      "C:\\Users\\Nikhi\\AppData\\Local\\Temp/ipykernel_7172/94272000.py:1: DeprecationWarning: executable_path has been deprecated, please pass in a Service object\n",
      "  driver = webdriver.Chrome(executable_path= \"C:\\\\selenium browser drivers\\\\chromedriver.exe\", options= options)\n",
      "C:\\Users\\Nikhi\\AppData\\Local\\Temp/ipykernel_7172/94272000.py:7: DeprecationWarning: find_element_by_* commands are deprecated. Please use find_element() instead\n",
      "  no_button = driver.find_element_by_class_name('mde-consent-accept-btn')\n",
      "C:\\Users\\Nikhi\\AppData\\Local\\Temp/ipykernel_7172/94272000.py:14: DeprecationWarning: find_element_by_* commands are deprecated. Please use find_element() instead\n",
      "  no_button1 = driver.find_element_by_xpath('//*[@id=\"save-search-tutorial\"]/span/i')\n"
     ]
    }
   ],
   "source": [
    "driver = webdriver.Chrome(executable_path= \"C:\\\\selenium browser drivers\\\\chromedriver.exe\", options= options)\n",
    "\n",
    "driver.get(\"https://suchen.mobile.de/fahrzeuge/search.html?dam=0&fr=2020%3A&isSearchRequest=true&ms=17200%3B%3B12%3B%3B&s=Car&sfmr=false&vc=Car\")\n",
    "\n",
    "driver.implicitly_wait(50)\n",
    "try:\n",
    "    no_button = driver.find_element_by_class_name('mde-consent-accept-btn')\n",
    "    no_button.click()\n",
    "except:\n",
    "    print('No element with class name found. skipping...')\n",
    "\n",
    "driver.implicitly_wait(50)    \n",
    "try:\n",
    "    no_button1 = driver.find_element_by_xpath('//*[@id=\"save-search-tutorial\"]/span/i')\n",
    "    no_button1.click()\n",
    "except:\n",
    "    print('No element with class name found. skipping...')\n",
    "\n",
    "driver.implicitly_wait(50)"
   ]
  },
  {
   "cell_type": "markdown",
   "metadata": {},
   "source": [
    "## __Extracting 1st Page URL links__"
   ]
  },
  {
   "cell_type": "code",
   "execution_count": 4,
   "metadata": {},
   "outputs": [],
   "source": [
    "time.sleep(10)\n",
    "page_sour = driver.page_source\n",
    "from bs4 import BeautifulSoup\n",
    "soup = BeautifulSoup(page_sour, 'lxml')\n",
    "d1 = soup.find_all('div', {'class': 'cBox cBox--content cBox--resultList'})\n",
    "d2 = d1[0]\n",
    "urls = []\n",
    "for i in d2.find_all('a', {'class': 'link--muted no--text--decoration'}):\n",
    "    urls.append(i['href'])\n",
    "for i in d2.find_all('a', {'class': 'link--muted no--text--decoration result-item'}):\n",
    "    urls.append(i['href'])"
   ]
  },
  {
   "cell_type": "markdown",
   "metadata": {},
   "source": [
    "## __Extracting Next Page URL links__"
   ]
  },
  {
   "cell_type": "code",
   "execution_count": 5,
   "metadata": {},
   "outputs": [],
   "source": [
    "def next_page(page):\n",
    "    next_pages_url = f'https://suchen.mobile.de/fahrzeuge/search.html?damageUnrepaired=NO_DAMAGE_UNREPAIRED&isSearchRequest=true&makeModelVariant1.makeId=17200&makeModelVariant1.modelGroupId=12&minFirstRegistrationDate=2020-01-01&pageNumber={page}&scopeId=C&sfmr=false'\n",
    "    return next_pages_url\n",
    "\n",
    "next_pages = []\n",
    "for x in range(2,19):\n",
    "    next_pages.append(next_page(x))"
   ]
  },
  {
   "cell_type": "code",
   "execution_count": 6,
   "metadata": {},
   "outputs": [],
   "source": [
    "time.sleep(30)"
   ]
  },
  {
   "cell_type": "markdown",
   "metadata": {},
   "source": [
    "## __Extracting URL links of all ads in all pages__"
   ]
  },
  {
   "cell_type": "code",
   "execution_count": 7,
   "metadata": {},
   "outputs": [],
   "source": [
    "xurls = []\n",
    "for i in next_pages:\n",
    "    driver.get(i)\n",
    "    ##driver.implicitly_wait(3000000)\n",
    "    #time.sleep(10)\n",
    "    page_sourx = driver.page_source\n",
    "    soupx = BeautifulSoup(page_sourx, 'lxml')\n",
    "        \n",
    "    d1x = soupx.find_all('div', {'class': 'cBox cBox--content cBox--resultList'})\n",
    "    d2x = d1x[0]\n",
    "    for i in d2x.find_all('a', {'class': 'link--muted no--text--decoration'}):\n",
    "        xurls.append(i['href'])\n",
    "    for i in d2x.find_all('a', {'class': 'link--muted no--text--decoration result-item'}):\n",
    "        xurls.append(i['href'])"
   ]
  },
  {
   "cell_type": "code",
   "execution_count": 8,
   "metadata": {},
   "outputs": [
    {
     "data": {
      "text/plain": [
       "411"
      ]
     },
     "execution_count": 8,
     "metadata": {},
     "output_type": "execute_result"
    }
   ],
   "source": [
    "urls_ = urls + xurls\n",
    "len(urls_)"
   ]
  },
  {
   "cell_type": "markdown",
   "metadata": {},
   "source": [
    "## __Extracting requried data__"
   ]
  },
  {
   "cell_type": "code",
   "execution_count": 9,
   "metadata": {},
   "outputs": [],
   "source": [
    "car_names = []\n",
    "gross_prices = []\n",
    "net_prices = []\n",
    "milages = []\n",
    "vehicle_numbers = []\n",
    "dealer_names = []\n",
    "colors = []\n",
    "dealer_locations = []\n",
    "damages = []\n",
    "for i in range(len(urls_)):\n",
    "    \n",
    "    driver.get(urls_[i])\n",
    "    #time.sleep(5)\n",
    "    #driver.implicitly_wait(30000000000)\n",
    "    page_sour2 = driver.page_source\n",
    "    soup3 = BeautifulSoup(page_sour2, 'lxml')\n",
    "    \n",
    "    try:\n",
    "        car_name = soup3.find_all('h1', {'class': 'h2 u-margin-bottom-9 overlay-image-gallery-title'})[0].get_text()\n",
    "        car_names.append(car_name)\n",
    "    except IndexError:\n",
    "        car_names.append('None')\n",
    "    try:\n",
    "        gross_price = soup3.find_all('span', {'data-testid': 'prime-price'})[0].get_text()\n",
    "        gross_prices.append(gross_price)\n",
    "    except IndexError:\n",
    "        gross_prices.append('None')\n",
    "    \n",
    "    try:\n",
    "        net_price = soup3.find_all('span', {'data-testid': 'sec-price'})[0].get_text()\n",
    "        net_prices.append(net_price)\n",
    "    except IndexError:\n",
    "        net_prices.append('None')\n",
    "    \n",
    "    try:\n",
    "        milage = soup3.find_all('div', {'class': 'g-col-6', 'id': 'mileage-v'})[0].get_text()\n",
    "        milages.append(milage)\n",
    "    except IndexError:\n",
    "        milages.append('None')\n",
    "    \n",
    "    try:\n",
    "        vehicle_number = soup3.find_all('div', {'class': 'g-col-6', 'id': 'sku-v'})[0].get_text()\n",
    "        vehicle_numbers.append(vehicle_number)\n",
    "    except IndexError:\n",
    "        vehicle_numbers.append('None')\n",
    "    try:\n",
    "        dealer_name = soup3.find_all('a', {'id': 'dealer-hp-link-bottom'})[0].get_text()\n",
    "        dealer_names.append(dealer_name)\n",
    "    except IndexError:\n",
    "        dealer_names.append('None')\n",
    "    \n",
    "    try:\n",
    "        color = soup3.find_all('div', {'class': 'g-col-6', 'id': \"color-v\"})[0].get_text()\n",
    "        colors.append(color)\n",
    "    except IndexError:\n",
    "        colors.append('None')\n",
    "    \n",
    "    try:\n",
    "        dealer_location = soup3.find_all('p', {'id': 'db-address'})[0].get_text()\n",
    "        dealer_locations.append(dealer_location)\n",
    "    except IndexError:\n",
    "        dealer_locations.append('None')\n",
    "    \n",
    "    try:\n",
    "        damage = soup3.find_all('div', {'class': 'g-col-6', 'id': 'damageCondition-v'})[0].get_text()\n",
    "        damages.append(damage)\n",
    "    except IndexError:\n",
    "        damages.append('None')"
   ]
  },
  {
   "cell_type": "markdown",
   "metadata": {},
   "source": [
    "## __Developing a dataframe__"
   ]
  },
  {
   "cell_type": "code",
   "execution_count": 10,
   "metadata": {},
   "outputs": [
    {
     "data": {
      "text/html": [
       "<div>\n",
       "<style scoped>\n",
       "    .dataframe tbody tr th:only-of-type {\n",
       "        vertical-align: middle;\n",
       "    }\n",
       "\n",
       "    .dataframe tbody tr th {\n",
       "        vertical-align: top;\n",
       "    }\n",
       "\n",
       "    .dataframe thead th {\n",
       "        text-align: right;\n",
       "    }\n",
       "</style>\n",
       "<table border=\"1\" class=\"dataframe\">\n",
       "  <thead>\n",
       "    <tr style=\"text-align: right;\">\n",
       "      <th></th>\n",
       "      <th>vehicle_name</th>\n",
       "      <th>gross_price</th>\n",
       "      <th>net_price</th>\n",
       "      <th>vechile_number</th>\n",
       "      <th>color</th>\n",
       "      <th>dealer_name</th>\n",
       "      <th>dealer_location</th>\n",
       "      <th>milage</th>\n",
       "      <th>damage</th>\n",
       "    </tr>\n",
       "  </thead>\n",
       "  <tbody>\n",
       "    <tr>\n",
       "      <th>0</th>\n",
       "      <td>Mercedes-Benz G 63 Brabus B 800 °Starlight°24 ...</td>\n",
       "      <td>378.800 € (Brutto)</td>\n",
       "      <td>318.319 € (Netto)</td>\n",
       "      <td>B800-14</td>\n",
       "      <td>Schwarz</td>\n",
       "      <td>Autopoint Nordhausen GmbH</td>\n",
       "      <td>Arnoldstrasse 3DE-99734 Nordhausen</td>\n",
       "      <td>50 km</td>\n",
       "      <td>None</td>\n",
       "    </tr>\n",
       "    <tr>\n",
       "      <th>1</th>\n",
       "      <td>Mercedes-Benz G 63 BRABUS 700 Widestar</td>\n",
       "      <td>348.800 € (Brutto)</td>\n",
       "      <td>293.109 € (Netto)</td>\n",
       "      <td>G 63 Brabus- Black/Gold</td>\n",
       "      <td>Schwarz Metallic</td>\n",
       "      <td>Autopoint Nordhausen GmbH</td>\n",
       "      <td>Arnoldstrasse 3DE-99734 Nordhausen</td>\n",
       "      <td>50 km</td>\n",
       "      <td>Unfallfrei</td>\n",
       "    </tr>\n",
       "    <tr>\n",
       "      <th>2</th>\n",
       "      <td>Mercedes-Benz GLS 600 Maybach 4Matic °23\"°desi...</td>\n",
       "      <td>258.800 € (Brutto)</td>\n",
       "      <td>217.479 € (Netto)</td>\n",
       "      <td>60</td>\n",
       "      <td>Weiß Metallic</td>\n",
       "      <td>Autopoint Nordhausen GmbH</td>\n",
       "      <td>Arnoldstrasse 3DE-99734 Nordhausen</td>\n",
       "      <td>20 km</td>\n",
       "      <td>Unfallfrei</td>\n",
       "    </tr>\n",
       "    <tr>\n",
       "      <th>3</th>\n",
       "      <td>Mercedes-Benz S 400d 4M Brabus D40 °21 Zoll°Le...</td>\n",
       "      <td>188.800 € (Brutto)</td>\n",
       "      <td>158.655 € (Netto)</td>\n",
       "      <td>S400d-Box</td>\n",
       "      <td>Weiß Metallic</td>\n",
       "      <td>Autopoint Nordhausen GmbH</td>\n",
       "      <td>Arnoldstrasse 3DE-99734 Nordhausen</td>\n",
       "      <td>150 km</td>\n",
       "      <td>Unfallfrei</td>\n",
       "    </tr>\n",
       "    <tr>\n",
       "      <th>4</th>\n",
       "      <td>Mercedes-Benz G 500 AMG °Standheizung°Night I+...</td>\n",
       "      <td>178.800 € (Brutto)</td>\n",
       "      <td>150.252 € (Netto)</td>\n",
       "      <td>VL-G500</td>\n",
       "      <td>Schwarz</td>\n",
       "      <td>Autopoint Nordhausen GmbH</td>\n",
       "      <td>Arnoldstrasse 3DE-99734 Nordhausen</td>\n",
       "      <td>30 km</td>\n",
       "      <td>Unfallfrei</td>\n",
       "    </tr>\n",
       "  </tbody>\n",
       "</table>\n",
       "</div>"
      ],
      "text/plain": [
       "                                        vehicle_name         gross_price  \\\n",
       "0  Mercedes-Benz G 63 Brabus B 800 °Starlight°24 ...  378.800 € (Brutto)   \n",
       "1             Mercedes-Benz G 63 BRABUS 700 Widestar  348.800 € (Brutto)   \n",
       "2  Mercedes-Benz GLS 600 Maybach 4Matic °23\"°desi...  258.800 € (Brutto)   \n",
       "3  Mercedes-Benz S 400d 4M Brabus D40 °21 Zoll°Le...  188.800 € (Brutto)   \n",
       "4  Mercedes-Benz G 500 AMG °Standheizung°Night I+...  178.800 € (Brutto)   \n",
       "\n",
       "           net_price           vechile_number             color  \\\n",
       "0  318.319 € (Netto)                  B800-14           Schwarz   \n",
       "1  293.109 € (Netto)  G 63 Brabus- Black/Gold  Schwarz Metallic   \n",
       "2  217.479 € (Netto)                       60     Weiß Metallic   \n",
       "3  158.655 € (Netto)                S400d-Box     Weiß Metallic   \n",
       "4  150.252 € (Netto)                  VL-G500           Schwarz   \n",
       "\n",
       "                 dealer_name                     dealer_location  milage  \\\n",
       "0  Autopoint Nordhausen GmbH  Arnoldstrasse 3DE-99734 Nordhausen   50 km   \n",
       "1  Autopoint Nordhausen GmbH  Arnoldstrasse 3DE-99734 Nordhausen   50 km   \n",
       "2  Autopoint Nordhausen GmbH  Arnoldstrasse 3DE-99734 Nordhausen   20 km   \n",
       "3  Autopoint Nordhausen GmbH  Arnoldstrasse 3DE-99734 Nordhausen  150 km   \n",
       "4  Autopoint Nordhausen GmbH  Arnoldstrasse 3DE-99734 Nordhausen   30 km   \n",
       "\n",
       "       damage  \n",
       "0        None  \n",
       "1  Unfallfrei  \n",
       "2  Unfallfrei  \n",
       "3  Unfallfrei  \n",
       "4  Unfallfrei  "
      ]
     },
     "execution_count": 10,
     "metadata": {},
     "output_type": "execute_result"
    }
   ],
   "source": [
    "df = pd.DataFrame({'vehicle_name': car_names , 'gross_price': gross_prices, 'net_price': net_prices, \n",
    "                   'vechile_number': vehicle_numbers, 'color': colors, 'dealer_name': dealer_names,\n",
    "                   'dealer_location': dealer_locations,'milage' : milages, 'damage': damages})\n",
    "df.head()"
   ]
  },
  {
   "cell_type": "markdown",
   "metadata": {},
   "source": [
    "## __Analysis of the data__"
   ]
  },
  {
   "cell_type": "code",
   "execution_count": 11,
   "metadata": {},
   "outputs": [
    {
     "name": "stdout",
     "output_type": "stream",
     "text": [
      "<class 'pandas.core.frame.DataFrame'>\n",
      "RangeIndex: 411 entries, 0 to 410\n",
      "Data columns (total 9 columns):\n",
      " #   Column           Non-Null Count  Dtype \n",
      "---  ------           --------------  ----- \n",
      " 0   vehicle_name     411 non-null    object\n",
      " 1   gross_price      411 non-null    object\n",
      " 2   net_price        411 non-null    object\n",
      " 3   vechile_number   411 non-null    object\n",
      " 4   color            411 non-null    object\n",
      " 5   dealer_name      411 non-null    object\n",
      " 6   dealer_location  411 non-null    object\n",
      " 7   milage           411 non-null    object\n",
      " 8   damage           411 non-null    object\n",
      "dtypes: object(9)\n",
      "memory usage: 29.0+ KB\n"
     ]
    }
   ],
   "source": [
    "# info of the data \n",
    "df.info()"
   ]
  },
  {
   "cell_type": "code",
   "execution_count": 12,
   "metadata": {},
   "outputs": [],
   "source": [
    "#sorting the table via vehicle name\n",
    "df.sort_values(by= ['vehicle_name'], inplace= True)"
   ]
  },
  {
   "cell_type": "code",
   "execution_count": 13,
   "metadata": {},
   "outputs": [
    {
     "data": {
      "text/html": [
       "<div>\n",
       "<style scoped>\n",
       "    .dataframe tbody tr th:only-of-type {\n",
       "        vertical-align: middle;\n",
       "    }\n",
       "\n",
       "    .dataframe tbody tr th {\n",
       "        vertical-align: top;\n",
       "    }\n",
       "\n",
       "    .dataframe thead th {\n",
       "        text-align: right;\n",
       "    }\n",
       "</style>\n",
       "<table border=\"1\" class=\"dataframe\">\n",
       "  <thead>\n",
       "    <tr style=\"text-align: right;\">\n",
       "      <th></th>\n",
       "      <th>vehicle_name</th>\n",
       "      <th>gross_price</th>\n",
       "      <th>net_price</th>\n",
       "      <th>vechile_number</th>\n",
       "      <th>color</th>\n",
       "      <th>dealer_name</th>\n",
       "      <th>dealer_location</th>\n",
       "      <th>milage</th>\n",
       "      <th>damage</th>\n",
       "    </tr>\n",
       "  </thead>\n",
       "  <tbody>\n",
       "    <tr>\n",
       "      <th>20</th>\n",
       "      <td>Mercedes-Benz  G 350 d *AMG Sportpaket*DISTRON...</td>\n",
       "      <td>159.800 € (Brutto)</td>\n",
       "      <td>134.286 € (Netto)</td>\n",
       "      <td>None</td>\n",
       "      <td>Schwarz Metallic</td>\n",
       "      <td>LORD Automobile since 1999</td>\n",
       "      <td>Holderäckerstrasse 19DE-70499 Stuttgart</td>\n",
       "      <td>25.800 km</td>\n",
       "      <td>Unfallfrei</td>\n",
       "    </tr>\n",
       "    <tr>\n",
       "      <th>379</th>\n",
       "      <td>Mercedes-Benz  G 400 d AMG *NEU* Md.2022</td>\n",
       "      <td>169.000 € (Brutto)</td>\n",
       "      <td>142.017 € (Netto)</td>\n",
       "      <td>None</td>\n",
       "      <td>Schwarz</td>\n",
       "      <td>Classic Cars GmbH</td>\n",
       "      <td>Lise Meitner Str. 2DE-25746 Heide/Holstein</td>\n",
       "      <td>31 km</td>\n",
       "      <td>Unfallfrei</td>\n",
       "    </tr>\n",
       "  </tbody>\n",
       "</table>\n",
       "</div>"
      ],
      "text/plain": [
       "                                          vehicle_name         gross_price  \\\n",
       "20   Mercedes-Benz  G 350 d *AMG Sportpaket*DISTRON...  159.800 € (Brutto)   \n",
       "379          Mercedes-Benz  G 400 d AMG *NEU* Md.2022   169.000 € (Brutto)   \n",
       "\n",
       "             net_price vechile_number             color  \\\n",
       "20   134.286 € (Netto)           None  Schwarz Metallic   \n",
       "379  142.017 € (Netto)           None           Schwarz   \n",
       "\n",
       "                    dealer_name                             dealer_location  \\\n",
       "20   LORD Automobile since 1999     Holderäckerstrasse 19DE-70499 Stuttgart   \n",
       "379           Classic Cars GmbH  Lise Meitner Str. 2DE-25746 Heide/Holstein   \n",
       "\n",
       "        milage      damage  \n",
       "20   25.800 km  Unfallfrei  \n",
       "379      31 km  Unfallfrei  "
      ]
     },
     "execution_count": 13,
     "metadata": {},
     "output_type": "execute_result"
    }
   ],
   "source": [
    "df.head(2)"
   ]
  },
  {
   "cell_type": "code",
   "execution_count": 14,
   "metadata": {},
   "outputs": [],
   "source": [
    "#reseting the index\n",
    "df.reset_index(drop = True, inplace= True)"
   ]
  },
  {
   "cell_type": "code",
   "execution_count": 15,
   "metadata": {},
   "outputs": [
    {
     "data": {
      "text/html": [
       "<div>\n",
       "<style scoped>\n",
       "    .dataframe tbody tr th:only-of-type {\n",
       "        vertical-align: middle;\n",
       "    }\n",
       "\n",
       "    .dataframe tbody tr th {\n",
       "        vertical-align: top;\n",
       "    }\n",
       "\n",
       "    .dataframe thead th {\n",
       "        text-align: right;\n",
       "    }\n",
       "</style>\n",
       "<table border=\"1\" class=\"dataframe\">\n",
       "  <thead>\n",
       "    <tr style=\"text-align: right;\">\n",
       "      <th></th>\n",
       "      <th>vehicle_name</th>\n",
       "      <th>gross_price</th>\n",
       "      <th>net_price</th>\n",
       "      <th>vechile_number</th>\n",
       "      <th>color</th>\n",
       "      <th>dealer_name</th>\n",
       "      <th>dealer_location</th>\n",
       "      <th>milage</th>\n",
       "      <th>damage</th>\n",
       "    </tr>\n",
       "  </thead>\n",
       "  <tbody>\n",
       "    <tr>\n",
       "      <th>0</th>\n",
       "      <td>Mercedes-Benz  G 350 d *AMG Sportpaket*DISTRON...</td>\n",
       "      <td>159.800 € (Brutto)</td>\n",
       "      <td>134.286 € (Netto)</td>\n",
       "      <td>None</td>\n",
       "      <td>Schwarz Metallic</td>\n",
       "      <td>LORD Automobile since 1999</td>\n",
       "      <td>Holderäckerstrasse 19DE-70499 Stuttgart</td>\n",
       "      <td>25.800 km</td>\n",
       "      <td>Unfallfrei</td>\n",
       "    </tr>\n",
       "    <tr>\n",
       "      <th>1</th>\n",
       "      <td>Mercedes-Benz  G 400 d AMG *NEU* Md.2022</td>\n",
       "      <td>169.000 € (Brutto)</td>\n",
       "      <td>142.017 € (Netto)</td>\n",
       "      <td>None</td>\n",
       "      <td>Schwarz</td>\n",
       "      <td>Classic Cars GmbH</td>\n",
       "      <td>Lise Meitner Str. 2DE-25746 Heide/Holstein</td>\n",
       "      <td>31 km</td>\n",
       "      <td>Unfallfrei</td>\n",
       "    </tr>\n",
       "  </tbody>\n",
       "</table>\n",
       "</div>"
      ],
      "text/plain": [
       "                                        vehicle_name         gross_price  \\\n",
       "0  Mercedes-Benz  G 350 d *AMG Sportpaket*DISTRON...  159.800 € (Brutto)   \n",
       "1          Mercedes-Benz  G 400 d AMG *NEU* Md.2022   169.000 € (Brutto)   \n",
       "\n",
       "           net_price vechile_number             color  \\\n",
       "0  134.286 € (Netto)           None  Schwarz Metallic   \n",
       "1  142.017 € (Netto)           None           Schwarz   \n",
       "\n",
       "                  dealer_name                             dealer_location  \\\n",
       "0  LORD Automobile since 1999     Holderäckerstrasse 19DE-70499 Stuttgart   \n",
       "1           Classic Cars GmbH  Lise Meitner Str. 2DE-25746 Heide/Holstein   \n",
       "\n",
       "      milage      damage  \n",
       "0  25.800 km  Unfallfrei  \n",
       "1      31 km  Unfallfrei  "
      ]
     },
     "execution_count": 15,
     "metadata": {},
     "output_type": "execute_result"
    }
   ],
   "source": [
    "df.head(2)"
   ]
  },
  {
   "cell_type": "code",
   "execution_count": 16,
   "metadata": {},
   "outputs": [
    {
     "data": {
      "text/plain": [
       "vehicle_name       object\n",
       "gross_price        object\n",
       "net_price          object\n",
       "vechile_number     object\n",
       "color              object\n",
       "dealer_name        object\n",
       "dealer_location    object\n",
       "milage             object\n",
       "damage             object\n",
       "dtype: object"
      ]
     },
     "execution_count": 16,
     "metadata": {},
     "output_type": "execute_result"
    }
   ],
   "source": [
    "# info about data types\n",
    "df.dtypes"
   ]
  },
  {
   "cell_type": "code",
   "execution_count": 17,
   "metadata": {},
   "outputs": [],
   "source": [
    "#removing the 'euro' symbol and '(Brutto)'\n",
    "df['gross_price'] = df['gross_price'].str.extract(r'(\\d+.\\d+)', expand = False)"
   ]
  },
  {
   "cell_type": "code",
   "execution_count": 18,
   "metadata": {},
   "outputs": [],
   "source": [
    "#removing the 'euro' symbol and '(netto)'\n",
    "df['net_price'] = df['net_price'].str.extract(r'(\\d+.\\d+)', expand = False)"
   ]
  },
  {
   "cell_type": "code",
   "execution_count": 19,
   "metadata": {},
   "outputs": [],
   "source": [
    "#creating the space between\n",
    "df['dealer_location'] = df['dealer_location'].str.replace(pat= r'DE', repl= ', DE', regex= True)"
   ]
  },
  {
   "cell_type": "code",
   "execution_count": 20,
   "metadata": {},
   "outputs": [],
   "source": [
    "#creating two new columns\n",
    "df[['Address','City']] = df['dealer_location'].str.split(pat = '\\, DE-\\d+', expand= True)"
   ]
  },
  {
   "cell_type": "code",
   "execution_count": 21,
   "metadata": {},
   "outputs": [
    {
     "data": {
      "text/plain": [
       "64"
      ]
     },
     "execution_count": 21,
     "metadata": {},
     "output_type": "execute_result"
    }
   ],
   "source": [
    "#checking for any duplicates\n",
    "df.duplicated().sum()"
   ]
  },
  {
   "cell_type": "code",
   "execution_count": 22,
   "metadata": {},
   "outputs": [
    {
     "data": {
      "text/plain": [
       "411"
      ]
     },
     "execution_count": 22,
     "metadata": {},
     "output_type": "execute_result"
    }
   ],
   "source": [
    "#initial length\n",
    "len(df)"
   ]
  },
  {
   "cell_type": "code",
   "execution_count": 23,
   "metadata": {},
   "outputs": [],
   "source": [
    "#dropping the duplicates\n",
    "df.drop_duplicates(inplace= True)"
   ]
  },
  {
   "cell_type": "code",
   "execution_count": 24,
   "metadata": {},
   "outputs": [
    {
     "data": {
      "text/plain": [
       "347"
      ]
     },
     "execution_count": 24,
     "metadata": {},
     "output_type": "execute_result"
    }
   ],
   "source": [
    "#final length after dropping duplicates\n",
    "len(df)"
   ]
  },
  {
   "cell_type": "code",
   "execution_count": 25,
   "metadata": {},
   "outputs": [],
   "source": [
    "#reseting the index\n",
    "df.reset_index(drop = True, inplace= True)"
   ]
  },
  {
   "cell_type": "code",
   "execution_count": 26,
   "metadata": {},
   "outputs": [],
   "source": [
    "#dropping the address column\n",
    "df.drop('Address', axis = 1, inplace= True)"
   ]
  },
  {
   "cell_type": "code",
   "execution_count": 48,
   "metadata": {},
   "outputs": [],
   "source": [
    "#dropping the last row as it has all none values\n",
    "#df.drop(347, axis= 0, inplace = True)"
   ]
  },
  {
   "cell_type": "code",
   "execution_count": 27,
   "metadata": {},
   "outputs": [],
   "source": [
    "#extracting the model name from the model details\n",
    "df['Model'] = df['vehicle_name'].str.extract(pat = r\"([^Mercedes\\-Benz\\s\\s]\\s\\d+|[^Mercedes\\-Benz\\sG]\\d+)\", expand= False)"
   ]
  },
  {
   "cell_type": "code",
   "execution_count": 28,
   "metadata": {},
   "outputs": [
    {
     "data": {
      "text/html": [
       "<div>\n",
       "<style scoped>\n",
       "    .dataframe tbody tr th:only-of-type {\n",
       "        vertical-align: middle;\n",
       "    }\n",
       "\n",
       "    .dataframe tbody tr th {\n",
       "        vertical-align: top;\n",
       "    }\n",
       "\n",
       "    .dataframe thead th {\n",
       "        text-align: right;\n",
       "    }\n",
       "</style>\n",
       "<table border=\"1\" class=\"dataframe\">\n",
       "  <thead>\n",
       "    <tr style=\"text-align: right;\">\n",
       "      <th></th>\n",
       "      <th>vehicle_name</th>\n",
       "      <th>gross_price</th>\n",
       "      <th>net_price</th>\n",
       "      <th>vechile_number</th>\n",
       "      <th>color</th>\n",
       "      <th>dealer_name</th>\n",
       "      <th>dealer_location</th>\n",
       "      <th>milage</th>\n",
       "      <th>damage</th>\n",
       "      <th>City</th>\n",
       "      <th>Model</th>\n",
       "    </tr>\n",
       "  </thead>\n",
       "  <tbody>\n",
       "    <tr>\n",
       "      <th>0</th>\n",
       "      <td>Mercedes-Benz  G 350 d *AMG Sportpaket*DISTRON...</td>\n",
       "      <td>159.800</td>\n",
       "      <td>134.286</td>\n",
       "      <td>None</td>\n",
       "      <td>Schwarz Metallic</td>\n",
       "      <td>LORD Automobile since 1999</td>\n",
       "      <td>Holderäckerstrasse 19, DE-70499 Stuttgart</td>\n",
       "      <td>25.800 km</td>\n",
       "      <td>Unfallfrei</td>\n",
       "      <td>Stuttgart</td>\n",
       "      <td>G 350</td>\n",
       "    </tr>\n",
       "    <tr>\n",
       "      <th>1</th>\n",
       "      <td>Mercedes-Benz  G 400 d AMG *NEU* Md.2022</td>\n",
       "      <td>169.000</td>\n",
       "      <td>142.017</td>\n",
       "      <td>None</td>\n",
       "      <td>Schwarz</td>\n",
       "      <td>Classic Cars GmbH</td>\n",
       "      <td>Lise Meitner Str. 2, DE-25746 Heide/Holstein</td>\n",
       "      <td>31 km</td>\n",
       "      <td>Unfallfrei</td>\n",
       "      <td>Heide/Holstein</td>\n",
       "      <td>G 400</td>\n",
       "    </tr>\n",
       "    <tr>\n",
       "      <th>2</th>\n",
       "      <td>Mercedes-Benz  G 400 d*G-Manufaktur/Burmester/...</td>\n",
       "      <td>174.999</td>\n",
       "      <td>NaN</td>\n",
       "      <td>None</td>\n",
       "      <td>Blau</td>\n",
       "      <td>Sinko-Automobile</td>\n",
       "      <td>Daimlerstrasse 14, DE-73660 Urbach bei Stuttgart</td>\n",
       "      <td>7.000 km</td>\n",
       "      <td>None</td>\n",
       "      <td>Urbach bei Stuttgart</td>\n",
       "      <td>G 400</td>\n",
       "    </tr>\n",
       "  </tbody>\n",
       "</table>\n",
       "</div>"
      ],
      "text/plain": [
       "                                        vehicle_name gross_price net_price  \\\n",
       "0  Mercedes-Benz  G 350 d *AMG Sportpaket*DISTRON...     159.800   134.286   \n",
       "1          Mercedes-Benz  G 400 d AMG *NEU* Md.2022      169.000   142.017   \n",
       "2  Mercedes-Benz  G 400 d*G-Manufaktur/Burmester/...     174.999       NaN   \n",
       "\n",
       "  vechile_number             color                 dealer_name  \\\n",
       "0           None  Schwarz Metallic  LORD Automobile since 1999   \n",
       "1           None           Schwarz           Classic Cars GmbH   \n",
       "2           None              Blau            Sinko-Automobile   \n",
       "\n",
       "                                    dealer_location     milage      damage  \\\n",
       "0         Holderäckerstrasse 19, DE-70499 Stuttgart  25.800 km  Unfallfrei   \n",
       "1      Lise Meitner Str. 2, DE-25746 Heide/Holstein      31 km  Unfallfrei   \n",
       "2  Daimlerstrasse 14, DE-73660 Urbach bei Stuttgart   7.000 km        None   \n",
       "\n",
       "                    City  Model  \n",
       "0              Stuttgart  G 350  \n",
       "1         Heide/Holstein  G 400  \n",
       "2   Urbach bei Stuttgart  G 400  "
      ]
     },
     "execution_count": 28,
     "metadata": {},
     "output_type": "execute_result"
    }
   ],
   "source": [
    "df.head(3)"
   ]
  },
  {
   "cell_type": "markdown",
   "metadata": {},
   "source": [
    "## __Generating a CSV file__"
   ]
  },
  {
   "cell_type": "code",
   "execution_count": 29,
   "metadata": {},
   "outputs": [],
   "source": [
    "#df.to_csv('Cars_data.csv')"
   ]
  },
  {
   "cell_type": "markdown",
   "metadata": {},
   "source": [
    "## __Further Analysis__"
   ]
  },
  {
   "cell_type": "code",
   "execution_count": 30,
   "metadata": {},
   "outputs": [],
   "source": [
    "y = df['dealer_location']"
   ]
  },
  {
   "cell_type": "code",
   "execution_count": 31,
   "metadata": {},
   "outputs": [
    {
     "data": {
      "text/plain": [
       "[(48.14561998850928, 11.558429986032849)]"
      ]
     },
     "execution_count": 31,
     "metadata": {},
     "output_type": "execute_result"
    }
   ],
   "source": [
    "def addr_long(x):\n",
    "    from geopy.geocoders import ArcGIS\n",
    "    lat_ = []\n",
    "    long_ = []\n",
    "    points = []\n",
    "    for i in x:\n",
    "        loc = ArcGIS()\n",
    "        addr = loc.geocode(i, timeout=None)\n",
    "        if addr is None:\n",
    "            lat_.append(None)\n",
    "            long_.append(None)\n",
    "        else:\n",
    "            longitude = addr.longitude\n",
    "            latitude = addr.latitude\n",
    "            points.append((latitude, longitude))\n",
    "    return points\n",
    "addr_long(['Seidlstraße 28, 80335 München'])"
   ]
  },
  {
   "cell_type": "code",
   "execution_count": 32,
   "metadata": {},
   "outputs": [],
   "source": [
    "plocation = [] \n",
    "for i in y[0:len(y)]:\n",
    "    x = addr_long([i])\n",
    "    plocation.append(x)"
   ]
  },
  {
   "cell_type": "code",
   "execution_count": 34,
   "metadata": {},
   "outputs": [],
   "source": [
    "df['Location'] = plocation"
   ]
  },
  {
   "cell_type": "code",
   "execution_count": 35,
   "metadata": {},
   "outputs": [],
   "source": [
    "# creating list with all pickup locations\n",
    "p_location = []\n",
    "for i in range(len(df['Location'])):\n",
    "    x2 = df['Location'][i][0]\n",
    "    p_location.append(x2)"
   ]
  },
  {
   "cell_type": "code",
   "execution_count": 36,
   "metadata": {},
   "outputs": [],
   "source": [
    "df['Location'] = p_location"
   ]
  },
  {
   "cell_type": "code",
   "execution_count": 37,
   "metadata": {},
   "outputs": [],
   "source": [
    "df[['lat', 'long']] = pd.DataFrame(df['Location'].tolist(), index=df.index)"
   ]
  },
  {
   "cell_type": "code",
   "execution_count": 38,
   "metadata": {},
   "outputs": [],
   "source": [
    "df['Alat'] = 48.14561998850928\n",
    "df['Along'] = 11.558429986032849"
   ]
  },
  {
   "cell_type": "code",
   "execution_count": 41,
   "metadata": {},
   "outputs": [
    {
     "data": {
      "text/plain": [
       "None                                                         32\n",
       "Stern Auto GmbH - Center Leipzig                             11\n",
       "AVG-Leasing & Sportwagenzentrum Vertriebs GmbH® seit 1988    11\n",
       "Autopoint Nordhausen GmbH                                    11\n",
       "Black Fox GmbH                                               11\n",
       "Hollmann International GmbH & Co. KG                         10\n",
       "Name: dealer_name, dtype: int64"
      ]
     },
     "execution_count": 41,
     "metadata": {},
     "output_type": "execute_result"
    }
   ],
   "source": [
    "df['dealer_name'].value_counts().nlargest(6)"
   ]
  },
  {
   "cell_type": "code",
   "execution_count": 40,
   "metadata": {},
   "outputs": [
    {
     "data": {
      "text/plain": [
       "Richard-Lehmann-Straße 120, DE-04277 Leipzig                  11\n",
       "Münchner Straße 20, DE-82319 Starnberg am See, bei München    11\n",
       "Arnoldstrasse 3, DE-99734 Nordhausen                          11\n",
       "Schleißheimer Str. 222, DE-80797 München                      11\n",
       "Charlotte Auerbach Str.4, DE-28816 Stuhr                      10\n",
       "Name: dealer_location, dtype: int64"
      ]
     },
     "execution_count": 40,
     "metadata": {},
     "output_type": "execute_result"
    }
   ],
   "source": [
    "df['dealer_location'].value_counts().nlargest(5)"
   ]
  },
  {
   "cell_type": "code",
   "execution_count": 42,
   "metadata": {},
   "outputs": [
    {
     "data": {
      "text/plain": [
       "Hillen Exclusive Cars     1\n",
       "Miller Automobile GmbH    1\n",
       "Goldberg Leasing GmbH     1\n",
       "Auto 1000 GmbH            1\n",
       "Autohaus ISI              1\n",
       "AB luxury cars GmbH       1\n",
       "Name: dealer_name, dtype: int64"
      ]
     },
     "execution_count": 42,
     "metadata": {},
     "output_type": "execute_result"
    }
   ],
   "source": [
    "df['dealer_name'].value_counts().nsmallest(6)"
   ]
  },
  {
   "cell_type": "code",
   "execution_count": 43,
   "metadata": {},
   "outputs": [
    {
     "data": {
      "text/plain": [
       "san juan de la salle, 4ES-28036 MADRID                          1\n",
       "Im Steinkampe 16, DE-38110 Braunschweig                         1\n",
       "Niestetalstr. 11, DE-34266 Niestetal-Heiligenrode bei Kassel    1\n",
       "Fröndenberger Strasse 146, DE-58706 Menden                      1\n",
       ", DE-68159 Mannheim                                             1\n",
       "Name: dealer_location, dtype: int64"
      ]
     },
     "execution_count": 43,
     "metadata": {},
     "output_type": "execute_result"
    }
   ],
   "source": [
    "df['dealer_location'].value_counts().nsmallest(5)"
   ]
  },
  {
   "cell_type": "code",
   "execution_count": 49,
   "metadata": {},
   "outputs": [
    {
     "data": {
      "text/plain": [
       "dealer_name                                                dealer_location                                           \n",
       "AVG-Leasing & Sportwagenzentrum Vertriebs GmbH® seit 1988  Münchner Straße 20, DE-82319 Starnberg am See, bei München    11\n",
       "Autopoint Nordhausen GmbH                                  Arnoldstrasse 3, DE-99734 Nordhausen                          11\n",
       "Black Fox GmbH                                             Schleißheimer Str. 222, DE-80797 München                      11\n",
       "Stern Auto GmbH - Center Leipzig                           Richard-Lehmann-Straße 120, DE-04277 Leipzig                  11\n",
       "Hollmann International GmbH & Co. KG                       Charlotte Auerbach Str.4, DE-28816 Stuhr                      10\n",
       "Name: dealer_location, dtype: int64"
      ]
     },
     "execution_count": 49,
     "metadata": {},
     "output_type": "execute_result"
    }
   ],
   "source": [
    "df.groupby('dealer_name')['dealer_location'].value_counts().nlargest(5)"
   ]
  },
  {
   "cell_type": "code",
   "execution_count": 51,
   "metadata": {},
   "outputs": [
    {
     "data": {
      "text/plain": [
       "dealer_name          dealer_location                      \n",
       "A. Kahn Design Ltd.  Kings Road 385GB-SW10 0LX London         1\n",
       "AB luxury cars GmbH  Kurfürstendamm 40/41, DE-10719 Berlin    1\n",
       "ACE Cars Exclusive   Heerlerbaan 76NL-6418CH Heerlen          1\n",
       "AL Ain Class Motors  Dubai  U.A.E ..AE-1711 Dubai             1\n",
       "AL SAHAB GERMANY     Karlstraße 79, DE-72766 Reutlingen       1\n",
       "Name: dealer_location, dtype: int64"
      ]
     },
     "execution_count": 51,
     "metadata": {},
     "output_type": "execute_result"
    }
   ],
   "source": [
    "df.groupby('dealer_name')['dealer_location'].value_counts().nsmallest()"
   ]
  },
  {
   "cell_type": "code",
   "execution_count": 55,
   "metadata": {},
   "outputs": [
    {
     "data": {
      "text/plain": [
       "[(52.997479989657876, 8.775680041301854)]"
      ]
     },
     "execution_count": 55,
     "metadata": {},
     "output_type": "execute_result"
    }
   ],
   "source": [
    "def addr_long(x):\n",
    "    from geopy.geocoders import ArcGIS\n",
    "    lat_ = []\n",
    "    long_ = []\n",
    "    points = []\n",
    "    for i in x:\n",
    "        loc = ArcGIS()\n",
    "        addr = loc.geocode(i, timeout=None)\n",
    "        if addr is None:\n",
    "            lat_.append(None)\n",
    "            long_.append(None)\n",
    "        else:\n",
    "            longitude = addr.longitude\n",
    "            latitude = addr.latitude\n",
    "            points.append((latitude, longitude))\n",
    "    return points\n",
    "addr_long(['Charlotte Auerbach Str.4, DE-28816 Stuhr'])"
   ]
  },
  {
   "cell_type": "code",
   "execution_count": 56,
   "metadata": {},
   "outputs": [],
   "source": [
    "d = { 'Pick_locat' : [[48.0005900133404, 11.351039992343175],[51.49731998401569, 10.790259992140477],[48.16903998990034, 11.565229972622006], [51.314110020787496, 12.398530036396608], [52.997479989657876, 8.775680041301854]],\n",
    "        'Address' : ['AVG-Leasing & Sportwagenzentrum Vertriebs GmbH', 'Autopoint Nordhausen GmbH', 'Black Fox GmbH', 'Stern Auto GmbH - Center Leipzig', 'Hollmann International GmbH & Co. KG']}\n",
    "df1 = pd.DataFrame(d)"
   ]
  },
  {
   "cell_type": "code",
   "execution_count": 57,
   "metadata": {},
   "outputs": [
    {
     "data": {
      "text/html": [
       "<div style=\"width:100%;\"><div style=\"position:relative;width:100%;height:0;padding-bottom:60%;\"><span style=\"color:#565656\">Make this Notebook Trusted to load map: File -> Trust Notebook</span><iframe src=\"about:blank\" style=\"position:absolute;width:100%;height:100%;left:0;top:0;border:none !important;\" data-html=%3C%21DOCTYPE%20html%3E%0A%3Chead%3E%20%20%20%20%0A%20%20%20%20%3Cmeta%20http-equiv%3D%22content-type%22%20content%3D%22text/html%3B%20charset%3DUTF-8%22%20/%3E%0A%20%20%20%20%0A%20%20%20%20%20%20%20%20%3Cscript%3E%0A%20%20%20%20%20%20%20%20%20%20%20%20L_NO_TOUCH%20%3D%20false%3B%0A%20%20%20%20%20%20%20%20%20%20%20%20L_DISABLE_3D%20%3D%20false%3B%0A%20%20%20%20%20%20%20%20%3C/script%3E%0A%20%20%20%20%0A%20%20%20%20%3Cstyle%3Ehtml%2C%20body%20%7Bwidth%3A%20100%25%3Bheight%3A%20100%25%3Bmargin%3A%200%3Bpadding%3A%200%3B%7D%3C/style%3E%0A%20%20%20%20%3Cstyle%3E%23map%20%7Bposition%3Aabsolute%3Btop%3A0%3Bbottom%3A0%3Bright%3A0%3Bleft%3A0%3B%7D%3C/style%3E%0A%20%20%20%20%3Cscript%20src%3D%22https%3A//cdn.jsdelivr.net/npm/leaflet%401.6.0/dist/leaflet.js%22%3E%3C/script%3E%0A%20%20%20%20%3Cscript%20src%3D%22https%3A//code.jquery.com/jquery-1.12.4.min.js%22%3E%3C/script%3E%0A%20%20%20%20%3Cscript%20src%3D%22https%3A//maxcdn.bootstrapcdn.com/bootstrap/3.2.0/js/bootstrap.min.js%22%3E%3C/script%3E%0A%20%20%20%20%3Cscript%20src%3D%22https%3A//cdnjs.cloudflare.com/ajax/libs/Leaflet.awesome-markers/2.0.2/leaflet.awesome-markers.js%22%3E%3C/script%3E%0A%20%20%20%20%3Clink%20rel%3D%22stylesheet%22%20href%3D%22https%3A//cdn.jsdelivr.net/npm/leaflet%401.6.0/dist/leaflet.css%22/%3E%0A%20%20%20%20%3Clink%20rel%3D%22stylesheet%22%20href%3D%22https%3A//maxcdn.bootstrapcdn.com/bootstrap/3.2.0/css/bootstrap.min.css%22/%3E%0A%20%20%20%20%3Clink%20rel%3D%22stylesheet%22%20href%3D%22https%3A//maxcdn.bootstrapcdn.com/bootstrap/3.2.0/css/bootstrap-theme.min.css%22/%3E%0A%20%20%20%20%3Clink%20rel%3D%22stylesheet%22%20href%3D%22https%3A//maxcdn.bootstrapcdn.com/font-awesome/4.6.3/css/font-awesome.min.css%22/%3E%0A%20%20%20%20%3Clink%20rel%3D%22stylesheet%22%20href%3D%22https%3A//cdnjs.cloudflare.com/ajax/libs/Leaflet.awesome-markers/2.0.2/leaflet.awesome-markers.css%22/%3E%0A%20%20%20%20%3Clink%20rel%3D%22stylesheet%22%20href%3D%22https%3A//cdn.jsdelivr.net/gh/python-visualization/folium/folium/templates/leaflet.awesome.rotate.min.css%22/%3E%0A%20%20%20%20%0A%20%20%20%20%20%20%20%20%20%20%20%20%3Cmeta%20name%3D%22viewport%22%20content%3D%22width%3Ddevice-width%2C%0A%20%20%20%20%20%20%20%20%20%20%20%20%20%20%20%20initial-scale%3D1.0%2C%20maximum-scale%3D1.0%2C%20user-scalable%3Dno%22%20/%3E%0A%20%20%20%20%20%20%20%20%20%20%20%20%3Cstyle%3E%0A%20%20%20%20%20%20%20%20%20%20%20%20%20%20%20%20%23map_f99729b5812f49dcbe1bd5b9b039804b%20%7B%0A%20%20%20%20%20%20%20%20%20%20%20%20%20%20%20%20%20%20%20%20position%3A%20relative%3B%0A%20%20%20%20%20%20%20%20%20%20%20%20%20%20%20%20%20%20%20%20width%3A%20100.0%25%3B%0A%20%20%20%20%20%20%20%20%20%20%20%20%20%20%20%20%20%20%20%20height%3A%20100.0%25%3B%0A%20%20%20%20%20%20%20%20%20%20%20%20%20%20%20%20%20%20%20%20left%3A%200.0%25%3B%0A%20%20%20%20%20%20%20%20%20%20%20%20%20%20%20%20%20%20%20%20top%3A%200.0%25%3B%0A%20%20%20%20%20%20%20%20%20%20%20%20%20%20%20%20%7D%0A%20%20%20%20%20%20%20%20%20%20%20%20%3C/style%3E%0A%20%20%20%20%20%20%20%20%0A%3C/head%3E%0A%3Cbody%3E%20%20%20%20%0A%20%20%20%20%0A%20%20%20%20%20%20%20%20%20%20%20%20%3Cdiv%20class%3D%22folium-map%22%20id%3D%22map_f99729b5812f49dcbe1bd5b9b039804b%22%20%3E%3C/div%3E%0A%20%20%20%20%20%20%20%20%0A%3C/body%3E%0A%3Cscript%3E%20%20%20%20%0A%20%20%20%20%0A%20%20%20%20%20%20%20%20%20%20%20%20var%20map_f99729b5812f49dcbe1bd5b9b039804b%20%3D%20L.map%28%0A%20%20%20%20%20%20%20%20%20%20%20%20%20%20%20%20%22map_f99729b5812f49dcbe1bd5b9b039804b%22%2C%0A%20%20%20%20%20%20%20%20%20%20%20%20%20%20%20%20%7B%0A%20%20%20%20%20%20%20%20%20%20%20%20%20%20%20%20%20%20%20%20center%3A%20%5B48.14562%2C%20-11.55843%5D%2C%0A%20%20%20%20%20%20%20%20%20%20%20%20%20%20%20%20%20%20%20%20crs%3A%20L.CRS.EPSG3857%2C%0A%20%20%20%20%20%20%20%20%20%20%20%20%20%20%20%20%20%20%20%20zoom%3A%205%2C%0A%20%20%20%20%20%20%20%20%20%20%20%20%20%20%20%20%20%20%20%20zoomControl%3A%20true%2C%0A%20%20%20%20%20%20%20%20%20%20%20%20%20%20%20%20%20%20%20%20preferCanvas%3A%20false%2C%0A%20%20%20%20%20%20%20%20%20%20%20%20%20%20%20%20%7D%0A%20%20%20%20%20%20%20%20%20%20%20%20%29%3B%0A%0A%20%20%20%20%20%20%20%20%20%20%20%20%0A%0A%20%20%20%20%20%20%20%20%0A%20%20%20%20%0A%20%20%20%20%20%20%20%20%20%20%20%20var%20tile_layer_1548c0a9b8fd4cf69ff5c32932c6fe34%20%3D%20L.tileLayer%28%0A%20%20%20%20%20%20%20%20%20%20%20%20%20%20%20%20%22https%3A//%7Bs%7D.tile.openstreetmap.org/%7Bz%7D/%7Bx%7D/%7By%7D.png%22%2C%0A%20%20%20%20%20%20%20%20%20%20%20%20%20%20%20%20%7B%22attribution%22%3A%20%22Data%20by%20%5Cu0026copy%3B%20%5Cu003ca%20href%3D%5C%22http%3A//openstreetmap.org%5C%22%5Cu003eOpenStreetMap%5Cu003c/a%5Cu003e%2C%20under%20%5Cu003ca%20href%3D%5C%22http%3A//www.openstreetmap.org/copyright%5C%22%5Cu003eODbL%5Cu003c/a%5Cu003e.%22%2C%20%22detectRetina%22%3A%20false%2C%20%22maxNativeZoom%22%3A%2018%2C%20%22maxZoom%22%3A%2018%2C%20%22minZoom%22%3A%200%2C%20%22noWrap%22%3A%20false%2C%20%22opacity%22%3A%201%2C%20%22subdomains%22%3A%20%22abc%22%2C%20%22tms%22%3A%20false%7D%0A%20%20%20%20%20%20%20%20%20%20%20%20%29.addTo%28map_f99729b5812f49dcbe1bd5b9b039804b%29%3B%0A%20%20%20%20%20%20%20%20%0A%20%20%20%20%0A%20%20%20%20%20%20%20%20%20%20%20%20var%20marker_4ba998f0155d413e85a47b743ad25353%20%3D%20L.marker%28%0A%20%20%20%20%20%20%20%20%20%20%20%20%20%20%20%20%5B48.0005900133404%2C%2011.351039992343175%5D%2C%0A%20%20%20%20%20%20%20%20%20%20%20%20%20%20%20%20%7B%7D%0A%20%20%20%20%20%20%20%20%20%20%20%20%29.addTo%28map_f99729b5812f49dcbe1bd5b9b039804b%29%3B%0A%20%20%20%20%20%20%20%20%0A%20%20%20%20%0A%20%20%20%20%20%20%20%20var%20popup_35861907a806460cb4a135e1406c9509%20%3D%20L.popup%28%7B%22maxWidth%22%3A%20%22100%25%22%7D%29%3B%0A%0A%20%20%20%20%20%20%20%20%0A%20%20%20%20%20%20%20%20%20%20%20%20var%20html_5007ca79a60b4976a121ba6e6686d6ec%20%3D%20%24%28%60%3Cdiv%20id%3D%22html_5007ca79a60b4976a121ba6e6686d6ec%22%20style%3D%22width%3A%20100.0%25%3B%20height%3A%20100.0%25%3B%22%3EAVG-Leasing%20%26%20Sportwagenzentrum%20Vertriebs%20GmbH%3C/div%3E%60%29%5B0%5D%3B%0A%20%20%20%20%20%20%20%20%20%20%20%20popup_35861907a806460cb4a135e1406c9509.setContent%28html_5007ca79a60b4976a121ba6e6686d6ec%29%3B%0A%20%20%20%20%20%20%20%20%0A%0A%20%20%20%20%20%20%20%20marker_4ba998f0155d413e85a47b743ad25353.bindPopup%28popup_35861907a806460cb4a135e1406c9509%29%0A%20%20%20%20%20%20%20%20%3B%0A%0A%20%20%20%20%20%20%20%20%0A%20%20%20%20%0A%20%20%20%20%0A%20%20%20%20%20%20%20%20%20%20%20%20marker_4ba998f0155d413e85a47b743ad25353.bindTooltip%28%0A%20%20%20%20%20%20%20%20%20%20%20%20%20%20%20%20%60%3Cdiv%3E%0A%20%20%20%20%20%20%20%20%20%20%20%20%20%20%20%20%20%20%20%20%20Location%0A%20%20%20%20%20%20%20%20%20%20%20%20%20%20%20%20%20%3C/div%3E%60%2C%0A%20%20%20%20%20%20%20%20%20%20%20%20%20%20%20%20%7B%22sticky%22%3A%20true%7D%0A%20%20%20%20%20%20%20%20%20%20%20%20%29%3B%0A%20%20%20%20%20%20%20%20%0A%20%20%20%20%0A%20%20%20%20%20%20%20%20%20%20%20%20var%20marker_15a717d387874fb28e87f44a5971d573%20%3D%20L.marker%28%0A%20%20%20%20%20%20%20%20%20%20%20%20%20%20%20%20%5B51.49731998401569%2C%2010.790259992140477%5D%2C%0A%20%20%20%20%20%20%20%20%20%20%20%20%20%20%20%20%7B%7D%0A%20%20%20%20%20%20%20%20%20%20%20%20%29.addTo%28map_f99729b5812f49dcbe1bd5b9b039804b%29%3B%0A%20%20%20%20%20%20%20%20%0A%20%20%20%20%0A%20%20%20%20%20%20%20%20var%20popup_ebbf0d7a376c4f36a9002c9a89b1f109%20%3D%20L.popup%28%7B%22maxWidth%22%3A%20%22100%25%22%7D%29%3B%0A%0A%20%20%20%20%20%20%20%20%0A%20%20%20%20%20%20%20%20%20%20%20%20var%20html_3cf26b8d2fd5422cb8eee6d7dcc4ab4a%20%3D%20%24%28%60%3Cdiv%20id%3D%22html_3cf26b8d2fd5422cb8eee6d7dcc4ab4a%22%20style%3D%22width%3A%20100.0%25%3B%20height%3A%20100.0%25%3B%22%3EAutopoint%20Nordhausen%20GmbH%3C/div%3E%60%29%5B0%5D%3B%0A%20%20%20%20%20%20%20%20%20%20%20%20popup_ebbf0d7a376c4f36a9002c9a89b1f109.setContent%28html_3cf26b8d2fd5422cb8eee6d7dcc4ab4a%29%3B%0A%20%20%20%20%20%20%20%20%0A%0A%20%20%20%20%20%20%20%20marker_15a717d387874fb28e87f44a5971d573.bindPopup%28popup_ebbf0d7a376c4f36a9002c9a89b1f109%29%0A%20%20%20%20%20%20%20%20%3B%0A%0A%20%20%20%20%20%20%20%20%0A%20%20%20%20%0A%20%20%20%20%0A%20%20%20%20%20%20%20%20%20%20%20%20marker_15a717d387874fb28e87f44a5971d573.bindTooltip%28%0A%20%20%20%20%20%20%20%20%20%20%20%20%20%20%20%20%60%3Cdiv%3E%0A%20%20%20%20%20%20%20%20%20%20%20%20%20%20%20%20%20%20%20%20%20Location%0A%20%20%20%20%20%20%20%20%20%20%20%20%20%20%20%20%20%3C/div%3E%60%2C%0A%20%20%20%20%20%20%20%20%20%20%20%20%20%20%20%20%7B%22sticky%22%3A%20true%7D%0A%20%20%20%20%20%20%20%20%20%20%20%20%29%3B%0A%20%20%20%20%20%20%20%20%0A%20%20%20%20%0A%20%20%20%20%20%20%20%20%20%20%20%20var%20marker_4d5f57df3f96422980b3be213b860094%20%3D%20L.marker%28%0A%20%20%20%20%20%20%20%20%20%20%20%20%20%20%20%20%5B48.16903998990034%2C%2011.565229972622006%5D%2C%0A%20%20%20%20%20%20%20%20%20%20%20%20%20%20%20%20%7B%7D%0A%20%20%20%20%20%20%20%20%20%20%20%20%29.addTo%28map_f99729b5812f49dcbe1bd5b9b039804b%29%3B%0A%20%20%20%20%20%20%20%20%0A%20%20%20%20%0A%20%20%20%20%20%20%20%20var%20popup_be342f59f5fa45718abfb406066e03ee%20%3D%20L.popup%28%7B%22maxWidth%22%3A%20%22100%25%22%7D%29%3B%0A%0A%20%20%20%20%20%20%20%20%0A%20%20%20%20%20%20%20%20%20%20%20%20var%20html_772d4c62a51c4a81b92c61171a0610ba%20%3D%20%24%28%60%3Cdiv%20id%3D%22html_772d4c62a51c4a81b92c61171a0610ba%22%20style%3D%22width%3A%20100.0%25%3B%20height%3A%20100.0%25%3B%22%3EBlack%20Fox%20GmbH%3C/div%3E%60%29%5B0%5D%3B%0A%20%20%20%20%20%20%20%20%20%20%20%20popup_be342f59f5fa45718abfb406066e03ee.setContent%28html_772d4c62a51c4a81b92c61171a0610ba%29%3B%0A%20%20%20%20%20%20%20%20%0A%0A%20%20%20%20%20%20%20%20marker_4d5f57df3f96422980b3be213b860094.bindPopup%28popup_be342f59f5fa45718abfb406066e03ee%29%0A%20%20%20%20%20%20%20%20%3B%0A%0A%20%20%20%20%20%20%20%20%0A%20%20%20%20%0A%20%20%20%20%0A%20%20%20%20%20%20%20%20%20%20%20%20marker_4d5f57df3f96422980b3be213b860094.bindTooltip%28%0A%20%20%20%20%20%20%20%20%20%20%20%20%20%20%20%20%60%3Cdiv%3E%0A%20%20%20%20%20%20%20%20%20%20%20%20%20%20%20%20%20%20%20%20%20Location%0A%20%20%20%20%20%20%20%20%20%20%20%20%20%20%20%20%20%3C/div%3E%60%2C%0A%20%20%20%20%20%20%20%20%20%20%20%20%20%20%20%20%7B%22sticky%22%3A%20true%7D%0A%20%20%20%20%20%20%20%20%20%20%20%20%29%3B%0A%20%20%20%20%20%20%20%20%0A%20%20%20%20%0A%20%20%20%20%20%20%20%20%20%20%20%20var%20marker_bfa4aad6eccb471796fff24befcaf58c%20%3D%20L.marker%28%0A%20%20%20%20%20%20%20%20%20%20%20%20%20%20%20%20%5B51.314110020787496%2C%2012.398530036396608%5D%2C%0A%20%20%20%20%20%20%20%20%20%20%20%20%20%20%20%20%7B%7D%0A%20%20%20%20%20%20%20%20%20%20%20%20%29.addTo%28map_f99729b5812f49dcbe1bd5b9b039804b%29%3B%0A%20%20%20%20%20%20%20%20%0A%20%20%20%20%0A%20%20%20%20%20%20%20%20var%20popup_ba5220f8f8b54fb197cd36015f7e5823%20%3D%20L.popup%28%7B%22maxWidth%22%3A%20%22100%25%22%7D%29%3B%0A%0A%20%20%20%20%20%20%20%20%0A%20%20%20%20%20%20%20%20%20%20%20%20var%20html_6d8fca8366444385b0e4247b2afaa1a3%20%3D%20%24%28%60%3Cdiv%20id%3D%22html_6d8fca8366444385b0e4247b2afaa1a3%22%20style%3D%22width%3A%20100.0%25%3B%20height%3A%20100.0%25%3B%22%3EStern%20Auto%20GmbH%20-%20Center%20Leipzig%3C/div%3E%60%29%5B0%5D%3B%0A%20%20%20%20%20%20%20%20%20%20%20%20popup_ba5220f8f8b54fb197cd36015f7e5823.setContent%28html_6d8fca8366444385b0e4247b2afaa1a3%29%3B%0A%20%20%20%20%20%20%20%20%0A%0A%20%20%20%20%20%20%20%20marker_bfa4aad6eccb471796fff24befcaf58c.bindPopup%28popup_ba5220f8f8b54fb197cd36015f7e5823%29%0A%20%20%20%20%20%20%20%20%3B%0A%0A%20%20%20%20%20%20%20%20%0A%20%20%20%20%0A%20%20%20%20%0A%20%20%20%20%20%20%20%20%20%20%20%20marker_bfa4aad6eccb471796fff24befcaf58c.bindTooltip%28%0A%20%20%20%20%20%20%20%20%20%20%20%20%20%20%20%20%60%3Cdiv%3E%0A%20%20%20%20%20%20%20%20%20%20%20%20%20%20%20%20%20%20%20%20%20Location%0A%20%20%20%20%20%20%20%20%20%20%20%20%20%20%20%20%20%3C/div%3E%60%2C%0A%20%20%20%20%20%20%20%20%20%20%20%20%20%20%20%20%7B%22sticky%22%3A%20true%7D%0A%20%20%20%20%20%20%20%20%20%20%20%20%29%3B%0A%20%20%20%20%20%20%20%20%0A%20%20%20%20%0A%20%20%20%20%20%20%20%20%20%20%20%20var%20marker_5d221f4d5d4944a3a13f0b52b051c69c%20%3D%20L.marker%28%0A%20%20%20%20%20%20%20%20%20%20%20%20%20%20%20%20%5B52.997479989657876%2C%208.775680041301854%5D%2C%0A%20%20%20%20%20%20%20%20%20%20%20%20%20%20%20%20%7B%7D%0A%20%20%20%20%20%20%20%20%20%20%20%20%29.addTo%28map_f99729b5812f49dcbe1bd5b9b039804b%29%3B%0A%20%20%20%20%20%20%20%20%0A%20%20%20%20%0A%20%20%20%20%20%20%20%20var%20popup_1d8209a6bf544b57a4d32377193f5897%20%3D%20L.popup%28%7B%22maxWidth%22%3A%20%22100%25%22%7D%29%3B%0A%0A%20%20%20%20%20%20%20%20%0A%20%20%20%20%20%20%20%20%20%20%20%20var%20html_322de30a53f949e09d203e5a1ab80141%20%3D%20%24%28%60%3Cdiv%20id%3D%22html_322de30a53f949e09d203e5a1ab80141%22%20style%3D%22width%3A%20100.0%25%3B%20height%3A%20100.0%25%3B%22%3EHollmann%20International%20GmbH%20%26%20Co.%20KG%3C/div%3E%60%29%5B0%5D%3B%0A%20%20%20%20%20%20%20%20%20%20%20%20popup_1d8209a6bf544b57a4d32377193f5897.setContent%28html_322de30a53f949e09d203e5a1ab80141%29%3B%0A%20%20%20%20%20%20%20%20%0A%0A%20%20%20%20%20%20%20%20marker_5d221f4d5d4944a3a13f0b52b051c69c.bindPopup%28popup_1d8209a6bf544b57a4d32377193f5897%29%0A%20%20%20%20%20%20%20%20%3B%0A%0A%20%20%20%20%20%20%20%20%0A%20%20%20%20%0A%20%20%20%20%0A%20%20%20%20%20%20%20%20%20%20%20%20marker_5d221f4d5d4944a3a13f0b52b051c69c.bindTooltip%28%0A%20%20%20%20%20%20%20%20%20%20%20%20%20%20%20%20%60%3Cdiv%3E%0A%20%20%20%20%20%20%20%20%20%20%20%20%20%20%20%20%20%20%20%20%20Location%0A%20%20%20%20%20%20%20%20%20%20%20%20%20%20%20%20%20%3C/div%3E%60%2C%0A%20%20%20%20%20%20%20%20%20%20%20%20%20%20%20%20%7B%22sticky%22%3A%20true%7D%0A%20%20%20%20%20%20%20%20%20%20%20%20%29%3B%0A%20%20%20%20%20%20%20%20%0A%3C/script%3E onload=\"this.contentDocument.open();this.contentDocument.write(    decodeURIComponent(this.getAttribute('data-html')));this.contentDocument.close();\" allowfullscreen webkitallowfullscreen mozallowfullscreen></iframe></div></div>"
      ],
      "text/plain": [
       "<folium.folium.Map at 0x1e98ff90df0>"
      ]
     },
     "execution_count": 57,
     "metadata": {},
     "output_type": "execute_result"
    }
   ],
   "source": [
    "# Top locations\n",
    "# # 48.14562,\t-11.55843 germany location\n",
    "import folium\n",
    "center = [48.14562,\t-11.55843]\n",
    "map_germany = folium.Map(location=center, zoom_start=5)\n",
    "\n",
    "for i,r in df1.iterrows():\n",
    "    folium.Marker(location=r['Pick_locat'],\n",
    "                  popup = r['Address'],\n",
    "                  tooltip='Location').add_to(map_germany)\n",
    "#display map\n",
    "map_germany"
   ]
  },
  {
   "cell_type": "code",
   "execution_count": 63,
   "metadata": {},
   "outputs": [],
   "source": [
    "d2 = { 'locat' : [[51.48335613160815, -0.17692343321200876],[52.50216998742064, 13.321410013978095],[50.870253085564, 5.995634182354252], [25.269510000000025, 55.30884000000003], [48.50163998478169, 9.219229989321548]],\n",
    "        'Address' : ['A. Kahn Design Ltd', 'AB luxury cars GmbH', 'ACE Cars Exclusive', 'AL Ain Class Motors', 'AL SAHAB GERMANY']}\n",
    "df2 = pd.DataFrame(d2)"
   ]
  },
  {
   "cell_type": "code",
   "execution_count": 64,
   "metadata": {},
   "outputs": [
    {
     "data": {
      "text/html": [
       "<div style=\"width:100%;\"><div style=\"position:relative;width:100%;height:0;padding-bottom:60%;\"><span style=\"color:#565656\">Make this Notebook Trusted to load map: File -> Trust Notebook</span><iframe src=\"about:blank\" style=\"position:absolute;width:100%;height:100%;left:0;top:0;border:none !important;\" data-html=%3C%21DOCTYPE%20html%3E%0A%3Chead%3E%20%20%20%20%0A%20%20%20%20%3Cmeta%20http-equiv%3D%22content-type%22%20content%3D%22text/html%3B%20charset%3DUTF-8%22%20/%3E%0A%20%20%20%20%0A%20%20%20%20%20%20%20%20%3Cscript%3E%0A%20%20%20%20%20%20%20%20%20%20%20%20L_NO_TOUCH%20%3D%20false%3B%0A%20%20%20%20%20%20%20%20%20%20%20%20L_DISABLE_3D%20%3D%20false%3B%0A%20%20%20%20%20%20%20%20%3C/script%3E%0A%20%20%20%20%0A%20%20%20%20%3Cstyle%3Ehtml%2C%20body%20%7Bwidth%3A%20100%25%3Bheight%3A%20100%25%3Bmargin%3A%200%3Bpadding%3A%200%3B%7D%3C/style%3E%0A%20%20%20%20%3Cstyle%3E%23map%20%7Bposition%3Aabsolute%3Btop%3A0%3Bbottom%3A0%3Bright%3A0%3Bleft%3A0%3B%7D%3C/style%3E%0A%20%20%20%20%3Cscript%20src%3D%22https%3A//cdn.jsdelivr.net/npm/leaflet%401.6.0/dist/leaflet.js%22%3E%3C/script%3E%0A%20%20%20%20%3Cscript%20src%3D%22https%3A//code.jquery.com/jquery-1.12.4.min.js%22%3E%3C/script%3E%0A%20%20%20%20%3Cscript%20src%3D%22https%3A//maxcdn.bootstrapcdn.com/bootstrap/3.2.0/js/bootstrap.min.js%22%3E%3C/script%3E%0A%20%20%20%20%3Cscript%20src%3D%22https%3A//cdnjs.cloudflare.com/ajax/libs/Leaflet.awesome-markers/2.0.2/leaflet.awesome-markers.js%22%3E%3C/script%3E%0A%20%20%20%20%3Clink%20rel%3D%22stylesheet%22%20href%3D%22https%3A//cdn.jsdelivr.net/npm/leaflet%401.6.0/dist/leaflet.css%22/%3E%0A%20%20%20%20%3Clink%20rel%3D%22stylesheet%22%20href%3D%22https%3A//maxcdn.bootstrapcdn.com/bootstrap/3.2.0/css/bootstrap.min.css%22/%3E%0A%20%20%20%20%3Clink%20rel%3D%22stylesheet%22%20href%3D%22https%3A//maxcdn.bootstrapcdn.com/bootstrap/3.2.0/css/bootstrap-theme.min.css%22/%3E%0A%20%20%20%20%3Clink%20rel%3D%22stylesheet%22%20href%3D%22https%3A//maxcdn.bootstrapcdn.com/font-awesome/4.6.3/css/font-awesome.min.css%22/%3E%0A%20%20%20%20%3Clink%20rel%3D%22stylesheet%22%20href%3D%22https%3A//cdnjs.cloudflare.com/ajax/libs/Leaflet.awesome-markers/2.0.2/leaflet.awesome-markers.css%22/%3E%0A%20%20%20%20%3Clink%20rel%3D%22stylesheet%22%20href%3D%22https%3A//cdn.jsdelivr.net/gh/python-visualization/folium/folium/templates/leaflet.awesome.rotate.min.css%22/%3E%0A%20%20%20%20%0A%20%20%20%20%20%20%20%20%20%20%20%20%3Cmeta%20name%3D%22viewport%22%20content%3D%22width%3Ddevice-width%2C%0A%20%20%20%20%20%20%20%20%20%20%20%20%20%20%20%20initial-scale%3D1.0%2C%20maximum-scale%3D1.0%2C%20user-scalable%3Dno%22%20/%3E%0A%20%20%20%20%20%20%20%20%20%20%20%20%3Cstyle%3E%0A%20%20%20%20%20%20%20%20%20%20%20%20%20%20%20%20%23map_5ea8d3d216224570b3c3f8e4b42e5290%20%7B%0A%20%20%20%20%20%20%20%20%20%20%20%20%20%20%20%20%20%20%20%20position%3A%20relative%3B%0A%20%20%20%20%20%20%20%20%20%20%20%20%20%20%20%20%20%20%20%20width%3A%20100.0%25%3B%0A%20%20%20%20%20%20%20%20%20%20%20%20%20%20%20%20%20%20%20%20height%3A%20100.0%25%3B%0A%20%20%20%20%20%20%20%20%20%20%20%20%20%20%20%20%20%20%20%20left%3A%200.0%25%3B%0A%20%20%20%20%20%20%20%20%20%20%20%20%20%20%20%20%20%20%20%20top%3A%200.0%25%3B%0A%20%20%20%20%20%20%20%20%20%20%20%20%20%20%20%20%7D%0A%20%20%20%20%20%20%20%20%20%20%20%20%3C/style%3E%0A%20%20%20%20%20%20%20%20%0A%3C/head%3E%0A%3Cbody%3E%20%20%20%20%0A%20%20%20%20%0A%20%20%20%20%20%20%20%20%20%20%20%20%3Cdiv%20class%3D%22folium-map%22%20id%3D%22map_5ea8d3d216224570b3c3f8e4b42e5290%22%20%3E%3C/div%3E%0A%20%20%20%20%20%20%20%20%0A%3C/body%3E%0A%3Cscript%3E%20%20%20%20%0A%20%20%20%20%0A%20%20%20%20%20%20%20%20%20%20%20%20var%20map_5ea8d3d216224570b3c3f8e4b42e5290%20%3D%20L.map%28%0A%20%20%20%20%20%20%20%20%20%20%20%20%20%20%20%20%22map_5ea8d3d216224570b3c3f8e4b42e5290%22%2C%0A%20%20%20%20%20%20%20%20%20%20%20%20%20%20%20%20%7B%0A%20%20%20%20%20%20%20%20%20%20%20%20%20%20%20%20%20%20%20%20center%3A%20%5B48.14562%2C%20-11.55843%5D%2C%0A%20%20%20%20%20%20%20%20%20%20%20%20%20%20%20%20%20%20%20%20crs%3A%20L.CRS.EPSG3857%2C%0A%20%20%20%20%20%20%20%20%20%20%20%20%20%20%20%20%20%20%20%20zoom%3A%205%2C%0A%20%20%20%20%20%20%20%20%20%20%20%20%20%20%20%20%20%20%20%20zoomControl%3A%20true%2C%0A%20%20%20%20%20%20%20%20%20%20%20%20%20%20%20%20%20%20%20%20preferCanvas%3A%20false%2C%0A%20%20%20%20%20%20%20%20%20%20%20%20%20%20%20%20%7D%0A%20%20%20%20%20%20%20%20%20%20%20%20%29%3B%0A%0A%20%20%20%20%20%20%20%20%20%20%20%20%0A%0A%20%20%20%20%20%20%20%20%0A%20%20%20%20%0A%20%20%20%20%20%20%20%20%20%20%20%20var%20tile_layer_2ab4a3c0315d414e9d0bcb523457222a%20%3D%20L.tileLayer%28%0A%20%20%20%20%20%20%20%20%20%20%20%20%20%20%20%20%22https%3A//%7Bs%7D.tile.openstreetmap.org/%7Bz%7D/%7Bx%7D/%7By%7D.png%22%2C%0A%20%20%20%20%20%20%20%20%20%20%20%20%20%20%20%20%7B%22attribution%22%3A%20%22Data%20by%20%5Cu0026copy%3B%20%5Cu003ca%20href%3D%5C%22http%3A//openstreetmap.org%5C%22%5Cu003eOpenStreetMap%5Cu003c/a%5Cu003e%2C%20under%20%5Cu003ca%20href%3D%5C%22http%3A//www.openstreetmap.org/copyright%5C%22%5Cu003eODbL%5Cu003c/a%5Cu003e.%22%2C%20%22detectRetina%22%3A%20false%2C%20%22maxNativeZoom%22%3A%2018%2C%20%22maxZoom%22%3A%2018%2C%20%22minZoom%22%3A%200%2C%20%22noWrap%22%3A%20false%2C%20%22opacity%22%3A%201%2C%20%22subdomains%22%3A%20%22abc%22%2C%20%22tms%22%3A%20false%7D%0A%20%20%20%20%20%20%20%20%20%20%20%20%29.addTo%28map_5ea8d3d216224570b3c3f8e4b42e5290%29%3B%0A%20%20%20%20%20%20%20%20%0A%20%20%20%20%0A%20%20%20%20%20%20%20%20%20%20%20%20var%20marker_d9fadd07c33e44928acfd8e8403884b6%20%3D%20L.marker%28%0A%20%20%20%20%20%20%20%20%20%20%20%20%20%20%20%20%5B51.48335613160815%2C%20-0.17692343321200876%5D%2C%0A%20%20%20%20%20%20%20%20%20%20%20%20%20%20%20%20%7B%7D%0A%20%20%20%20%20%20%20%20%20%20%20%20%29.addTo%28map_5ea8d3d216224570b3c3f8e4b42e5290%29%3B%0A%20%20%20%20%20%20%20%20%0A%20%20%20%20%0A%20%20%20%20%20%20%20%20var%20popup_6b1e0a61ad9a4a12be235c085681a8c1%20%3D%20L.popup%28%7B%22maxWidth%22%3A%20%22100%25%22%7D%29%3B%0A%0A%20%20%20%20%20%20%20%20%0A%20%20%20%20%20%20%20%20%20%20%20%20var%20html_8c9f490541af4ea2b6a7c3486b732cd0%20%3D%20%24%28%60%3Cdiv%20id%3D%22html_8c9f490541af4ea2b6a7c3486b732cd0%22%20style%3D%22width%3A%20100.0%25%3B%20height%3A%20100.0%25%3B%22%3EA.%20Kahn%20Design%20Ltd%3C/div%3E%60%29%5B0%5D%3B%0A%20%20%20%20%20%20%20%20%20%20%20%20popup_6b1e0a61ad9a4a12be235c085681a8c1.setContent%28html_8c9f490541af4ea2b6a7c3486b732cd0%29%3B%0A%20%20%20%20%20%20%20%20%0A%0A%20%20%20%20%20%20%20%20marker_d9fadd07c33e44928acfd8e8403884b6.bindPopup%28popup_6b1e0a61ad9a4a12be235c085681a8c1%29%0A%20%20%20%20%20%20%20%20%3B%0A%0A%20%20%20%20%20%20%20%20%0A%20%20%20%20%0A%20%20%20%20%0A%20%20%20%20%20%20%20%20%20%20%20%20marker_d9fadd07c33e44928acfd8e8403884b6.bindTooltip%28%0A%20%20%20%20%20%20%20%20%20%20%20%20%20%20%20%20%60%3Cdiv%3E%0A%20%20%20%20%20%20%20%20%20%20%20%20%20%20%20%20%20%20%20%20%20Location%0A%20%20%20%20%20%20%20%20%20%20%20%20%20%20%20%20%20%3C/div%3E%60%2C%0A%20%20%20%20%20%20%20%20%20%20%20%20%20%20%20%20%7B%22sticky%22%3A%20true%7D%0A%20%20%20%20%20%20%20%20%20%20%20%20%29%3B%0A%20%20%20%20%20%20%20%20%0A%20%20%20%20%0A%20%20%20%20%20%20%20%20%20%20%20%20var%20marker_e831e00f11a34d798a7294770deb05ac%20%3D%20L.marker%28%0A%20%20%20%20%20%20%20%20%20%20%20%20%20%20%20%20%5B52.50216998742064%2C%2013.321410013978095%5D%2C%0A%20%20%20%20%20%20%20%20%20%20%20%20%20%20%20%20%7B%7D%0A%20%20%20%20%20%20%20%20%20%20%20%20%29.addTo%28map_5ea8d3d216224570b3c3f8e4b42e5290%29%3B%0A%20%20%20%20%20%20%20%20%0A%20%20%20%20%0A%20%20%20%20%20%20%20%20var%20popup_4f4d315e0ebf4c37a76d29520509501c%20%3D%20L.popup%28%7B%22maxWidth%22%3A%20%22100%25%22%7D%29%3B%0A%0A%20%20%20%20%20%20%20%20%0A%20%20%20%20%20%20%20%20%20%20%20%20var%20html_73b7c97947034512b23feafb9d513a18%20%3D%20%24%28%60%3Cdiv%20id%3D%22html_73b7c97947034512b23feafb9d513a18%22%20style%3D%22width%3A%20100.0%25%3B%20height%3A%20100.0%25%3B%22%3EAB%20luxury%20cars%20GmbH%3C/div%3E%60%29%5B0%5D%3B%0A%20%20%20%20%20%20%20%20%20%20%20%20popup_4f4d315e0ebf4c37a76d29520509501c.setContent%28html_73b7c97947034512b23feafb9d513a18%29%3B%0A%20%20%20%20%20%20%20%20%0A%0A%20%20%20%20%20%20%20%20marker_e831e00f11a34d798a7294770deb05ac.bindPopup%28popup_4f4d315e0ebf4c37a76d29520509501c%29%0A%20%20%20%20%20%20%20%20%3B%0A%0A%20%20%20%20%20%20%20%20%0A%20%20%20%20%0A%20%20%20%20%0A%20%20%20%20%20%20%20%20%20%20%20%20marker_e831e00f11a34d798a7294770deb05ac.bindTooltip%28%0A%20%20%20%20%20%20%20%20%20%20%20%20%20%20%20%20%60%3Cdiv%3E%0A%20%20%20%20%20%20%20%20%20%20%20%20%20%20%20%20%20%20%20%20%20Location%0A%20%20%20%20%20%20%20%20%20%20%20%20%20%20%20%20%20%3C/div%3E%60%2C%0A%20%20%20%20%20%20%20%20%20%20%20%20%20%20%20%20%7B%22sticky%22%3A%20true%7D%0A%20%20%20%20%20%20%20%20%20%20%20%20%29%3B%0A%20%20%20%20%20%20%20%20%0A%20%20%20%20%0A%20%20%20%20%20%20%20%20%20%20%20%20var%20marker_253d75a88f6f4b9395b7bb09fcfdd406%20%3D%20L.marker%28%0A%20%20%20%20%20%20%20%20%20%20%20%20%20%20%20%20%5B50.870253085564%2C%205.995634182354252%5D%2C%0A%20%20%20%20%20%20%20%20%20%20%20%20%20%20%20%20%7B%7D%0A%20%20%20%20%20%20%20%20%20%20%20%20%29.addTo%28map_5ea8d3d216224570b3c3f8e4b42e5290%29%3B%0A%20%20%20%20%20%20%20%20%0A%20%20%20%20%0A%20%20%20%20%20%20%20%20var%20popup_6b9ab15e122944a9a3ae526eb6478df6%20%3D%20L.popup%28%7B%22maxWidth%22%3A%20%22100%25%22%7D%29%3B%0A%0A%20%20%20%20%20%20%20%20%0A%20%20%20%20%20%20%20%20%20%20%20%20var%20html_b6957d1c95a7405cacf108d6c4b0ce67%20%3D%20%24%28%60%3Cdiv%20id%3D%22html_b6957d1c95a7405cacf108d6c4b0ce67%22%20style%3D%22width%3A%20100.0%25%3B%20height%3A%20100.0%25%3B%22%3EACE%20Cars%20Exclusive%3C/div%3E%60%29%5B0%5D%3B%0A%20%20%20%20%20%20%20%20%20%20%20%20popup_6b9ab15e122944a9a3ae526eb6478df6.setContent%28html_b6957d1c95a7405cacf108d6c4b0ce67%29%3B%0A%20%20%20%20%20%20%20%20%0A%0A%20%20%20%20%20%20%20%20marker_253d75a88f6f4b9395b7bb09fcfdd406.bindPopup%28popup_6b9ab15e122944a9a3ae526eb6478df6%29%0A%20%20%20%20%20%20%20%20%3B%0A%0A%20%20%20%20%20%20%20%20%0A%20%20%20%20%0A%20%20%20%20%0A%20%20%20%20%20%20%20%20%20%20%20%20marker_253d75a88f6f4b9395b7bb09fcfdd406.bindTooltip%28%0A%20%20%20%20%20%20%20%20%20%20%20%20%20%20%20%20%60%3Cdiv%3E%0A%20%20%20%20%20%20%20%20%20%20%20%20%20%20%20%20%20%20%20%20%20Location%0A%20%20%20%20%20%20%20%20%20%20%20%20%20%20%20%20%20%3C/div%3E%60%2C%0A%20%20%20%20%20%20%20%20%20%20%20%20%20%20%20%20%7B%22sticky%22%3A%20true%7D%0A%20%20%20%20%20%20%20%20%20%20%20%20%29%3B%0A%20%20%20%20%20%20%20%20%0A%20%20%20%20%0A%20%20%20%20%20%20%20%20%20%20%20%20var%20marker_d083938a0f3242d18fa4d55a3dabefef%20%3D%20L.marker%28%0A%20%20%20%20%20%20%20%20%20%20%20%20%20%20%20%20%5B25.269510000000025%2C%2055.30884000000003%5D%2C%0A%20%20%20%20%20%20%20%20%20%20%20%20%20%20%20%20%7B%7D%0A%20%20%20%20%20%20%20%20%20%20%20%20%29.addTo%28map_5ea8d3d216224570b3c3f8e4b42e5290%29%3B%0A%20%20%20%20%20%20%20%20%0A%20%20%20%20%0A%20%20%20%20%20%20%20%20var%20popup_95e3cc70f40d494293b0e601c2c4ff49%20%3D%20L.popup%28%7B%22maxWidth%22%3A%20%22100%25%22%7D%29%3B%0A%0A%20%20%20%20%20%20%20%20%0A%20%20%20%20%20%20%20%20%20%20%20%20var%20html_f969a88a1946476b98edfa18014c830c%20%3D%20%24%28%60%3Cdiv%20id%3D%22html_f969a88a1946476b98edfa18014c830c%22%20style%3D%22width%3A%20100.0%25%3B%20height%3A%20100.0%25%3B%22%3EAL%20Ain%20Class%20Motors%3C/div%3E%60%29%5B0%5D%3B%0A%20%20%20%20%20%20%20%20%20%20%20%20popup_95e3cc70f40d494293b0e601c2c4ff49.setContent%28html_f969a88a1946476b98edfa18014c830c%29%3B%0A%20%20%20%20%20%20%20%20%0A%0A%20%20%20%20%20%20%20%20marker_d083938a0f3242d18fa4d55a3dabefef.bindPopup%28popup_95e3cc70f40d494293b0e601c2c4ff49%29%0A%20%20%20%20%20%20%20%20%3B%0A%0A%20%20%20%20%20%20%20%20%0A%20%20%20%20%0A%20%20%20%20%0A%20%20%20%20%20%20%20%20%20%20%20%20marker_d083938a0f3242d18fa4d55a3dabefef.bindTooltip%28%0A%20%20%20%20%20%20%20%20%20%20%20%20%20%20%20%20%60%3Cdiv%3E%0A%20%20%20%20%20%20%20%20%20%20%20%20%20%20%20%20%20%20%20%20%20Location%0A%20%20%20%20%20%20%20%20%20%20%20%20%20%20%20%20%20%3C/div%3E%60%2C%0A%20%20%20%20%20%20%20%20%20%20%20%20%20%20%20%20%7B%22sticky%22%3A%20true%7D%0A%20%20%20%20%20%20%20%20%20%20%20%20%29%3B%0A%20%20%20%20%20%20%20%20%0A%20%20%20%20%0A%20%20%20%20%20%20%20%20%20%20%20%20var%20marker_a302f548502e4f8ba859e2f73a709002%20%3D%20L.marker%28%0A%20%20%20%20%20%20%20%20%20%20%20%20%20%20%20%20%5B48.50163998478169%2C%209.219229989321548%5D%2C%0A%20%20%20%20%20%20%20%20%20%20%20%20%20%20%20%20%7B%7D%0A%20%20%20%20%20%20%20%20%20%20%20%20%29.addTo%28map_5ea8d3d216224570b3c3f8e4b42e5290%29%3B%0A%20%20%20%20%20%20%20%20%0A%20%20%20%20%0A%20%20%20%20%20%20%20%20var%20popup_1509255bdad547d1883eb7c0389b8ff1%20%3D%20L.popup%28%7B%22maxWidth%22%3A%20%22100%25%22%7D%29%3B%0A%0A%20%20%20%20%20%20%20%20%0A%20%20%20%20%20%20%20%20%20%20%20%20var%20html_fd764880f61c42bf8cb02923c26ef511%20%3D%20%24%28%60%3Cdiv%20id%3D%22html_fd764880f61c42bf8cb02923c26ef511%22%20style%3D%22width%3A%20100.0%25%3B%20height%3A%20100.0%25%3B%22%3EAL%20SAHAB%20GERMANY%3C/div%3E%60%29%5B0%5D%3B%0A%20%20%20%20%20%20%20%20%20%20%20%20popup_1509255bdad547d1883eb7c0389b8ff1.setContent%28html_fd764880f61c42bf8cb02923c26ef511%29%3B%0A%20%20%20%20%20%20%20%20%0A%0A%20%20%20%20%20%20%20%20marker_a302f548502e4f8ba859e2f73a709002.bindPopup%28popup_1509255bdad547d1883eb7c0389b8ff1%29%0A%20%20%20%20%20%20%20%20%3B%0A%0A%20%20%20%20%20%20%20%20%0A%20%20%20%20%0A%20%20%20%20%0A%20%20%20%20%20%20%20%20%20%20%20%20marker_a302f548502e4f8ba859e2f73a709002.bindTooltip%28%0A%20%20%20%20%20%20%20%20%20%20%20%20%20%20%20%20%60%3Cdiv%3E%0A%20%20%20%20%20%20%20%20%20%20%20%20%20%20%20%20%20%20%20%20%20Location%0A%20%20%20%20%20%20%20%20%20%20%20%20%20%20%20%20%20%3C/div%3E%60%2C%0A%20%20%20%20%20%20%20%20%20%20%20%20%20%20%20%20%7B%22sticky%22%3A%20true%7D%0A%20%20%20%20%20%20%20%20%20%20%20%20%29%3B%0A%20%20%20%20%20%20%20%20%0A%3C/script%3E onload=\"this.contentDocument.open();this.contentDocument.write(    decodeURIComponent(this.getAttribute('data-html')));this.contentDocument.close();\" allowfullscreen webkitallowfullscreen mozallowfullscreen></iframe></div></div>"
      ],
      "text/plain": [
       "<folium.folium.Map at 0x1e99372fb20>"
      ]
     },
     "execution_count": 64,
     "metadata": {},
     "output_type": "execute_result"
    }
   ],
   "source": [
    "# least locations\n",
    "# # 48.14562,\t-11.55843 germany location\n",
    "import folium\n",
    "center = [48.14562,\t-11.55843]\n",
    "map_germany = folium.Map(location=center, zoom_start=5)\n",
    "\n",
    "for i,r in df2.iterrows():\n",
    "    folium.Marker(location=r['locat'],\n",
    "                  popup = r['Address'],\n",
    "                  tooltip='Location').add_to(map_germany)\n",
    "#display map\n",
    "map_germany"
   ]
  },
  {
   "cell_type": "code",
   "execution_count": null,
   "metadata": {},
   "outputs": [],
   "source": []
  },
  {
   "cell_type": "code",
   "execution_count": null,
   "metadata": {},
   "outputs": [],
   "source": []
  }
 ],
 "metadata": {
  "interpreter": {
   "hash": "07efdcd4b820c98a756949507a4d29d7862823915ec7477944641bea022f4f62"
  },
  "kernelspec": {
   "display_name": "Python 3.8.8 64-bit ('base': conda)",
   "language": "python",
   "name": "python3"
  },
  "language_info": {
   "codemirror_mode": {
    "name": "ipython",
    "version": 3
   },
   "file_extension": ".py",
   "mimetype": "text/x-python",
   "name": "python",
   "nbconvert_exporter": "python",
   "pygments_lexer": "ipython3",
   "version": "3.9.7"
  },
  "orig_nbformat": 4
 },
 "nbformat": 4,
 "nbformat_minor": 2
}
